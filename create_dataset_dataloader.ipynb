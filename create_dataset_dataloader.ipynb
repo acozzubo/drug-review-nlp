{
 "cells": [
  {
   "cell_type": "code",
   "execution_count": 5,
   "id": "613ae486",
   "metadata": {},
   "outputs": [],
   "source": [
    "import torch\n",
    "import pandas as pd\n",
    "from torch.utils.data import Dataset, DataLoader"
   ]
  },
  {
   "cell_type": "markdown",
   "id": "c984797a",
   "metadata": {},
   "source": [
    "### Load in data"
   ]
  },
  {
   "cell_type": "code",
   "execution_count": 9,
   "id": "ef7a7691",
   "metadata": {},
   "outputs": [],
   "source": [
    "PATH_TO_TSV = r\"/home/nselman/ml/drugsComTrain_raw.tsv\""
   ]
  },
  {
   "cell_type": "code",
   "execution_count": 20,
   "id": "7a0043a0",
   "metadata": {},
   "outputs": [],
   "source": [
    "df = pd.read_csv(PATH_TO_TSV, header=0, delimiter='\\t', index_col=0, parse_dates=['date'])"
   ]
  },
  {
   "cell_type": "markdown",
   "id": "ab787c2d",
   "metadata": {},
   "source": [
    "Interpolate null conditions with Not Entered"
   ]
  },
  {
   "cell_type": "code",
   "execution_count": 34,
   "id": "2a4f89b3",
   "metadata": {},
   "outputs": [],
   "source": [
    "df.loc[df['condition'].isna(), 'condition'] = 'Not Entered'"
   ]
  },
  {
   "cell_type": "markdown",
   "id": "aa49b06b",
   "metadata": {},
   "source": [
    "NO MORE NULLS!"
   ]
  },
  {
   "cell_type": "code",
   "execution_count": 35,
   "id": "1c949a98",
   "metadata": {
    "scrolled": false
   },
   "outputs": [
    {
     "data": {
      "text/plain": [
       "drugName       0\n",
       "condition      0\n",
       "review         0\n",
       "rating         0\n",
       "date           0\n",
       "usefulCount    0\n",
       "dtype: int64"
      ]
     },
     "execution_count": 35,
     "metadata": {},
     "output_type": "execute_result"
    }
   ],
   "source": [
    "df.isna().sum()"
   ]
  },
  {
   "cell_type": "markdown",
   "id": "c593d554",
   "metadata": {},
   "source": [
    "### Bucket the ratings into (Positive, Neutral, Negative)"
   ]
  },
  {
   "cell_type": "code",
   "execution_count": 38,
   "id": "383c2280",
   "metadata": {},
   "outputs": [
    {
     "data": {
      "text/plain": [
       "array([[<AxesSubplot:title={'center':'rating'}>]], dtype=object)"
      ]
     },
     "execution_count": 38,
     "metadata": {},
     "output_type": "execute_result"
    },
    {
     "data": {
      "image/png": "[encoded data removed]",
      "text/plain": [
       "<Figure size 432x288 with 1 Axes>"
      ]
     },
     "metadata": {
      "needs_background": "light"
     },
     "output_type": "display_data"
    }
   ],
   "source": [
    "df.hist(column='rating')"
   ]
  },
  {
   "cell_type": "code",
   "execution_count": 40,
   "id": "5347d08e",
   "metadata": {
    "scrolled": true
   },
   "outputs": [
    {
     "data": {
      "text/plain": [
       "count    161297.000000\n",
       "mean          6.994377\n",
       "std           3.272329\n",
       "min           1.000000\n",
       "25%           5.000000\n",
       "50%           8.000000\n",
       "75%          10.000000\n",
       "max          10.000000\n",
       "Name: rating, dtype: float64"
      ]
     },
     "execution_count": 40,
     "metadata": {},
     "output_type": "execute_result"
    }
   ],
   "source": [
    "df['rating'].describe()"
   ]
  },
  {
   "cell_type": "markdown",
   "id": "137d5849",
   "metadata": {},
   "source": [
    "Breaking our dataset into the following buckets:\n",
    "- Negative: 0-3\n",
    "- Neutral: 4-6\n",
    "- Positive: 7-10"
   ]
  },
  {
   "cell_type": "markdown",
   "id": "33741036",
   "metadata": {},
   "source": [
    "Positive could be divided in to 7-8, 9-10 since people based on knowledge of how reviews are given, there seems to be a meaningful difference"
   ]
  },
  {
   "cell_type": "code",
   "execution_count": 41,
   "id": "ee2fab26",
   "metadata": {},
   "outputs": [],
   "source": [
    "df['rating_category'] = 'Postive'\n",
    "df.loc[df['rating'] < 7, 'rating_category'] = 'Neutral'\n",
    "df.loc[df['rating'] < 4, 'rating_category'] = 'Negative'"
   ]
  },
  {
   "cell_type": "markdown",
   "id": "31230df8",
   "metadata": {},
   "source": [
    "### *Important Thing to Consider*\n",
    "*Rating categories are very imbalanced - let's ask Amitabh if there's some sort of a strategy that will balance the types that our algorithm will see during training.  Right now our model would do well by predictive everything as positive.  Ideally we'd want each mini batch to contain examples belonging to every rating category.*\n"
   ]
  },
  {
   "cell_type": "code",
   "execution_count": 43,
   "id": "75c10dcd",
   "metadata": {
    "scrolled": true
   },
   "outputs": [
    {
     "data": {
      "text/plain": [
       "Postive     106866\n",
       "Negative     35063\n",
       "Neutral      19368\n",
       "Name: rating_category, dtype: int64"
      ]
     },
     "execution_count": 43,
     "metadata": {},
     "output_type": "execute_result"
    }
   ],
   "source": [
    "df['rating_category'].value_counts()"
   ]
  },
  {
   "cell_type": "markdown",
   "id": "622af263",
   "metadata": {},
   "source": [
    "### Convert Usefulness to Likes/Day\n",
    "\n",
    "Since usefulness ratings are a function of how long the review has existed, this converts it to usefulness/day\n",
    "\n",
    "Assumption:\n",
    "- All reviews were scraped on the same day AND this is the same date as the most recent review\n",
    "- The only factor that is correlated with the number of likes is the text of the review. (this assumption is particularly suspect because reviews that already have likes are more likely to be seen and thus may be more likely to be liked again)."
   ]
  },
  {
   "cell_type": "code",
   "execution_count": 48,
   "id": "43d72904",
   "metadata": {},
   "outputs": [
    {
     "name": "stdout",
     "output_type": "stream",
     "text": [
      "2017-12-12 00:00:00\n"
     ]
    }
   ],
   "source": [
    "max_date = df['date'].max()\n",
    "print(max_date)\n",
    "min_date = df['date'].min()"
   ]
  },
  {
   "cell_type": "code",
   "execution_count": 58,
   "id": "e1aa1e9d",
   "metadata": {},
   "outputs": [
    {
     "data": {
      "text/plain": [
       "206461    2032\n",
       "95260     2786\n",
       "92703     2920\n",
       "138000     770\n",
       "35696      380\n",
       "          ... \n",
       "191035     926\n",
       "127085    2233\n",
       "187382    1368\n",
       "47128      815\n",
       "215220    1095\n",
       "Name: date, Length: 161297, dtype: int64"
      ]
     },
     "execution_count": 58,
     "metadata": {},
     "output_type": "execute_result"
    }
   ],
   "source": [
    "(max_date - df['date']).dt.days"
   ]
  },
  {
   "cell_type": "code",
   "execution_count": 61,
   "id": "bf571dab",
   "metadata": {},
   "outputs": [],
   "source": [
    "df['useful_daily'] = df['usefulCount'] / ((max_date - df['date']).dt.days + 1) # +1 to avoid any division issues"
   ]
  },
  {
   "cell_type": "markdown",
   "id": "a01940d3",
   "metadata": {},
   "source": [
    "### Create Dataset Object"
   ]
  },
  {
   "cell_type": "code",
   "execution_count": null,
   "id": "09661939",
   "metadata": {},
   "outputs": [],
   "source": [
    "class DrugReviewDataset(Dataset):\n",
    "    def __init__(self, tsv_file):\n",
    "        pass\n",
    "    def __len__(self):\n",
    "        pass\n",
    "    def __getitem__(self, i)"
   ]
  }
 ],
 "metadata": {
  "kernelspec": {
   "display_name": "Python 3",
   "language": "python",
   "name": "python3"
  },
  "language_info": {
   "codemirror_mode": {
    "name": "ipython",
    "version": 3
   },
   "file_extension": ".py",
   "mimetype": "text/x-python",
   "name": "python",
   "nbconvert_exporter": "python",
   "pygments_lexer": "ipython3",
   "version": "3.8.5"
  }
 },
 "nbformat": 4,
 "nbformat_minor": 5
}
