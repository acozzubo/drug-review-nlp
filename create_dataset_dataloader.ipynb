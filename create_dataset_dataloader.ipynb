{
 "cells": [
  {
   "cell_type": "code",
   "execution_count": 5,
   "id": "aaa93d0f",
   "metadata": {},
   "outputs": [],
   "source": [
    "import torch\n",
    "import pandas as pd\n",
    "from torch.utils.data import Dataset, DataLoader"
   ]
  },
  {
   "cell_type": "markdown",
   "id": "d5dd6a25",
   "metadata": {},
   "source": [
    "### Load in data"
   ]
  },
  {
   "cell_type": "markdown",
   "id": "074e5d4e",
   "metadata": {},
   "source": [
    "*Change these - I'm not uploading the data to our repo*\n",
    "If we want to be fancy we can set a function up to pull the data directly from google drive"
   ]
  },
  {
   "cell_type": "code",
   "execution_count": 64,
   "id": "069c5f6d",
   "metadata": {},
   "outputs": [],
   "source": [
    "ROOT = \"/home/nselman/ml/drug-review-nlp\"\n",
    "PATH_TO_TSV = f\"{ROOT}/drugsComTrain_raw.tsv\"\n"
   ]
  },
  {
   "cell_type": "code",
   "execution_count": 20,
   "id": "8084ffe1",
   "metadata": {},
   "outputs": [],
   "source": [
    "df = pd.read_csv(PATH_TO_TSV, header=0, delimiter='\\t', index_col=0, parse_dates=['date'])"
   ]
  },
  {
   "cell_type": "markdown",
   "id": "60b04665",
   "metadata": {},
   "source": [
    "Interpolate null conditions with Not Entered"
   ]
  },
  {
   "cell_type": "code",
   "execution_count": 34,
   "id": "4de66ce3",
   "metadata": {},
   "outputs": [],
   "source": [
    "df.loc[df['condition'].isna(), 'condition'] = 'Not Entered'"
   ]
  },
  {
   "cell_type": "markdown",
   "id": "10d8c846",
   "metadata": {},
   "source": [
    "NO MORE NULLS!"
   ]
  },
  {
   "cell_type": "code",
   "execution_count": 35,
   "id": "658c219d",
   "metadata": {
    "scrolled": false
   },
   "outputs": [
    {
     "data": {
      "text/plain": [
       "drugName       0\n",
       "condition      0\n",
       "review         0\n",
       "rating         0\n",
       "date           0\n",
       "usefulCount    0\n",
       "dtype: int64"
      ]
     },
     "execution_count": 35,
     "metadata": {},
     "output_type": "execute_result"
    }
   ],
   "source": [
    "df.isna().sum()"
   ]
  },
  {
   "cell_type": "markdown",
   "id": "b117eeb4",
   "metadata": {},
   "source": [
    "### Bucket the ratings into (Positive, Neutral, Negative)"
   ]
  },
  {
   "cell_type": "code",
   "execution_count": 38,
   "id": "f2e93095",
   "metadata": {},
   "outputs": [
    {
     "data": {
      "text/plain": [
       "array([[<AxesSubplot:title={'center':'rating'}>]], dtype=object)"
      ]
     },
     "execution_count": 38,
     "metadata": {},
     "output_type": "execute_result"
    },
    {
     "data": {
      "image/png": "[encoded data removed]",
      "text/plain": [
       "<Figure size 432x288 with 1 Axes>"
      ]
     },
     "metadata": {
      "needs_background": "light"
     },
     "output_type": "display_data"
    }
   ],
   "source": [
    "df.hist(column='rating')"
   ]
  },
  {
   "cell_type": "code",
   "execution_count": 40,
   "id": "bcd22165",
   "metadata": {
    "scrolled": true
   },
   "outputs": [
    {
     "data": {
      "text/plain": [
       "count    161297.000000\n",
       "mean          6.994377\n",
       "std           3.272329\n",
       "min           1.000000\n",
       "25%           5.000000\n",
       "50%           8.000000\n",
       "75%          10.000000\n",
       "max          10.000000\n",
       "Name: rating, dtype: float64"
      ]
     },
     "execution_count": 40,
     "metadata": {},
     "output_type": "execute_result"
    }
   ],
   "source": [
    "df['rating'].describe()"
   ]
  },
  {
   "cell_type": "markdown",
   "id": "b77119b7",
   "metadata": {},
   "source": [
    "Breaking our dataset into the following buckets:\n",
    "- Negative: 0-3\n",
    "- Neutral: 4-6\n",
    "- Positive: 7-10"
   ]
  },
  {
   "cell_type": "markdown",
   "id": "e39d8dd6",
   "metadata": {},
   "source": [
    "Positive could be divided in to 7-8, 9-10 since people based on knowledge of how reviews are given, there seems to be a meaningful difference"
   ]
  },
  {
   "cell_type": "code",
   "execution_count": 41,
   "id": "5a140cfe",
   "metadata": {},
   "outputs": [],
   "source": [
    "df['rating_category'] = 'Postive'\n",
    "df.loc[df['rating'] < 7, 'rating_category'] = 'Neutral'\n",
    "df.loc[df['rating'] < 4, 'rating_category'] = 'Negative'"
   ]
  },
  {
   "cell_type": "markdown",
   "id": "8b18d333",
   "metadata": {},
   "source": [
    "### *Important Thing to Consider*\n",
    "*Rating categories are very imbalanced - let's ask Amitabh if there's some sort of a strategy that will balance the types that our algorithm will see during training.  Right now our model would minimized loss by predictive every review as positive since mini batches are likely to be nearly all positive.  Ideally we'd want each mini batch to contain examples belonging to every rating category.*\n"
   ]
  },
  {
   "cell_type": "code",
   "execution_count": 43,
   "id": "ee10005a",
   "metadata": {
    "scrolled": true
   },
   "outputs": [
    {
     "data": {
      "text/plain": [
       "Postive     106866\n",
       "Negative     35063\n",
       "Neutral      19368\n",
       "Name: rating_category, dtype: int64"
      ]
     },
     "execution_count": 43,
     "metadata": {},
     "output_type": "execute_result"
    }
   ],
   "source": [
    "df['rating_category'].value_counts()"
   ]
  },
  {
   "cell_type": "markdown",
   "id": "8e22a01d",
   "metadata": {},
   "source": [
    "### Convert Usefulness to Count/Day\n",
    "\n",
    "Since usefulness ratings are a function of how long the review has existed, this converts it to usefulness/day\n",
    "\n",
    "Assumption:\n",
    "- All reviews were scraped on the same day AND this is the same date as the most recent review\n",
    "- The only factor that is correlated with the number of likes is the text of the review. (this assumption is particularly suspect because reviews that already have likes are more likely to be seen and thus may be more likely to be liked again)."
   ]
  },
  {
   "cell_type": "code",
   "execution_count": 73,
   "id": "2dc34875",
   "metadata": {},
   "outputs": [
    {
     "name": "stdout",
     "output_type": "stream",
     "text": [
      "2017-12-12 00:00:00\n"
     ]
    }
   ],
   "source": [
    "max_date = df['date'].max()\n",
    "print(max_date)"
   ]
  },
  {
   "cell_type": "code",
   "execution_count": 58,
   "id": "dec67162",
   "metadata": {},
   "outputs": [
    {
     "data": {
      "text/plain": [
       "206461    2032\n",
       "95260     2786\n",
       "92703     2920\n",
       "138000     770\n",
       "35696      380\n",
       "          ... \n",
       "191035     926\n",
       "127085    2233\n",
       "187382    1368\n",
       "47128      815\n",
       "215220    1095\n",
       "Name: date, Length: 161297, dtype: int64"
      ]
     },
     "execution_count": 58,
     "metadata": {},
     "output_type": "execute_result"
    }
   ],
   "source": [
    "(max_date - df['date']).dt.days"
   ]
  },
  {
   "cell_type": "code",
   "execution_count": 61,
   "id": "7b382ac9",
   "metadata": {},
   "outputs": [],
   "source": [
    "df['useful_daily'] = df['usefulCount'] / ((max_date - df['date']).dt.days + 1) # +1 to avoid any division issues"
   ]
  },
  {
   "cell_type": "markdown",
   "id": "5639ff11",
   "metadata": {},
   "source": [
    "Write dat shit"
   ]
  },
  {
   "cell_type": "code",
   "execution_count": 70,
   "id": "c010c183",
   "metadata": {},
   "outputs": [],
   "source": [
    "df.to_csv(f'{ROOT}/clean-train.csv', index=False)"
   ]
  },
  {
   "cell_type": "markdown",
   "id": "398882e5",
   "metadata": {},
   "source": [
    "### Create Dataset Object"
   ]
  },
  {
   "cell_type": "code",
   "execution_count": 72,
   "id": "dcfbc9ea",
   "metadata": {},
   "outputs": [
    {
     "data": {
      "text/plain": [
       "drugName                   object\n",
       "condition                  object\n",
       "review                     object\n",
       "rating                    float64\n",
       "date               datetime64[ns]\n",
       "usefulCount                 int64\n",
       "rating_category            object\n",
       "useful_daily              float64\n",
       "dtype: object"
      ]
     },
     "execution_count": 72,
     "metadata": {},
     "output_type": "execute_result"
    }
   ],
   "source": [
    "CLEAN_DATA_FILE = f'{ROOT}/clean-train.csv'\n",
    "data = pd.read_csv(CLEAN_DATA_FILE, header=0, parse_dates=['date'])\n",
    "data.dtypes"
   ]
  },
  {
   "cell_type": "code",
   "execution_count": 131,
   "id": "1c58209e",
   "metadata": {
    "scrolled": true
   },
   "outputs": [],
   "source": [
    "class DrugReviewDataset(Dataset):\n",
    "    def __init__(self, csv_file):\n",
    "        \"\"\"\n",
    "        the following are assumed about csv_file:\n",
    "            - headers are in first row\n",
    "            - there is a column called 'date'\n",
    "            - there is a column called 'review' which contains the text data\n",
    "        \"\"\"\n",
    "        self.pandas_df = pd.read_csv(csv_file, header=0, parse_dates=['date'])\n",
    "        self.__target = None\n",
    "        self.text_col = 'review'\n",
    "\n",
    "    \n",
    "    @property\n",
    "    def target(self):\n",
    "        return self.__target\n",
    "    \n",
    "    @target.setter\n",
    "    def target(self, new_target):\n",
    "        if new_target in self.pandas_df.columns and new_target != 'review':\n",
    "            self.__target = new_target\n",
    "        else:\n",
    "            print(\"invalid target - target can't be 'review' or a column that's not in the pandas df\")\n",
    "            raise ValueError\n",
    "            \n",
    "        \n",
    "    def __len__(self):\n",
    "        return len(self.pandas_df)\n",
    "    \n",
    "    def __getitem__(self, idx):\n",
    "        \"\"\"\n",
    "        idx can be a list or tensor if integers\n",
    "        \"\"\"\n",
    "        if not self.target:\n",
    "            print(\"set a target before trying to get items bro.  use dataset.target = 'target_name'\")\n",
    "            raise LookupError\n",
    "        if torch.is_tensor(idx):\n",
    "            idx = idx.tolist()\n",
    "            \n",
    "        example_target = self.pandas_df.loc[idx, [self.target]].item()\n",
    "        example_review = self.pandas_df.loc[idx, [self.text_col]].item()\n",
    "            \n",
    "        example = (example_target, example_review)\n",
    "        \n",
    "        return example"
   ]
  },
  {
   "cell_type": "code",
   "execution_count": 132,
   "id": "d67367b0",
   "metadata": {},
   "outputs": [],
   "source": [
    "ds = DrugReviewDataset(CLEAN_DATA_FILE)"
   ]
  },
  {
   "cell_type": "code",
   "execution_count": 133,
   "id": "97246f10",
   "metadata": {},
   "outputs": [
    {
     "name": "stdout",
     "output_type": "stream",
     "text": [
      "('Postive', '\"It has no side effect, I take it in combination of Bystolic 5 Mg and Fish Oil\"')\n",
      "('Postive', '\"My son is halfway through his fourth week of Intuniv. We became concerned when he began this last week, when he started taking the highest dose he will be on. For two days, he could hardly get out of bed, was very cranky, and slept for nearly 8 hours on a drive home from school vacation (very unusual for him.) I called his doctor on Monday morning and she said to stick it out a few days. See how he did at school, and with getting up in the morning. The last two days have been problem free. He is MUCH more agreeable than ever. He is less emotional (a good thing), less cranky. He is remembering all the things he should. Overall his behavior is better. \\r\\nWe have tried many different medications and so far this is the most effective.\"')\n",
      "('Neutral', '\"I used to take another oral contraceptive, which had 21 pill cycle, and was very happy- very light periods, max 5 days, no other side effects. But it contained hormone gestodene, which is not available in US, so I switched to Lybrel, because the ingredients are similar. When my other pills ended, I started Lybrel immediately, on my first day of period, as the instructions said. And the period lasted for two weeks. When taking the second pack- same two weeks. And now, with third pack things got even worse- my third period lasted for two weeks and now it&#039;s the end of the third week- I still have daily brown discharge.\\r\\nThe positive side is that I didn&#039;t have any other side effects. The idea of being period free was so tempting... Alas.\"')\n"
     ]
    }
   ],
   "source": [
    "ds.target = 'rating_category'\n",
    "for i in range(3):\n",
    "    print(ds[i])"
   ]
  },
  {
   "cell_type": "markdown",
   "id": "eebc387f",
   "metadata": {},
   "source": [
    "### Dataloader"
   ]
  },
  {
   "cell_type": "code",
   "execution_count": 134,
   "id": "b81737ca",
   "metadata": {},
   "outputs": [],
   "source": [
    "dataloader = DataLoader(ds, batch_size=10, shuffle=True)"
   ]
  },
  {
   "cell_type": "code",
   "execution_count": 138,
   "id": "f43635c3",
   "metadata": {},
   "outputs": [
    {
     "name": "stdout",
     "output_type": "stream",
     "text": [
      "('Postive', 'Postive', 'Postive', 'Neutral', 'Postive', 'Postive', 'Postive', 'Postive', 'Postive', 'Negative')\n",
      "('Negative', 'Postive', 'Negative', 'Postive', 'Negative', 'Neutral', 'Postive', 'Neutral', 'Postive', 'Postive')\n",
      "('Negative', 'Negative', 'Postive', 'Negative', 'Postive', 'Postive', 'Postive', 'Neutral', 'Neutral', 'Postive')\n",
      "('Neutral', 'Negative', 'Postive', 'Postive', 'Neutral', 'Postive', 'Postive', 'Postive', 'Negative', 'Postive')\n"
     ]
    }
   ],
   "source": [
    "for i, (tar, rev) in enumerate(dataloader):\n",
    "    print(tar)\n",
    "    if i == 3:\n",
    "        break"
   ]
  },
  {
   "cell_type": "code",
   "execution_count": 117,
   "id": "b88c8e77",
   "metadata": {},
   "outputs": [
    {
     "data": {
      "text/plain": [
       "'/home/nselman/ml'"
      ]
     },
     "execution_count": 117,
     "metadata": {},
     "output_type": "execute_result"
    }
   ],
   "source": [
    "pwd"
   ]
  }
 ],
 "metadata": {
  "kernelspec": {
   "display_name": "Python 3",
   "language": "python",
   "name": "python3"
  },
  "language_info": {
   "codemirror_mode": {
    "name": "ipython",
    "version": 3
   },
   "file_extension": ".py",
   "mimetype": "text/x-python",
   "name": "python",
   "nbconvert_exporter": "python",
   "pygments_lexer": "ipython3",
   "version": "3.8.5"
  }
 },
 "nbformat": 4,
 "nbformat_minor": 5
}
